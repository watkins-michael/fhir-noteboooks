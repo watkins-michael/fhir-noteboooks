{
 "cells": [
  {
   "cell_type": "markdown",
   "metadata": {},
   "source": [
    "## FHIR Query Activity (Python)"
   ]
  },
  {
   "cell_type": "markdown",
   "metadata": {},
   "source": [
    "Querying data from a FHIR server is an essential component of any health IT solution. There are two main approaches to querying clinical data:\n",
    "        \n",
    "        1) Querying for resources related to a specific cohort of individuals\n",
    "        2) Querying resources related to a specific individual\n",
    "This query activity will give examples of both forms. It will help you practice (a) building queries, and (b) parsing the resulting resources to access the data fields you need. You may need to look through the FHIR specification for a certain resource to know which fields you can query for, look through SNOMED CT or RxNorm browsers to know which codes to use for medications or conditions, or look through other terminologies as used by the FHIR resource specification.\n",
    "\n",
    "The specification page for each resource will have a section on \"Search Parameters\" which will guide you in knowing what you can include in a query."
   ]
  },
  {
   "cell_type": "markdown",
   "metadata": {},
   "source": [
    "### Data Server"
   ]
  },
  {
   "cell_type": "markdown",
   "metadata": {},
   "source": [
    "We will be using an HSPC Sandbox as the source of our FHIR data. Follow this [link](https://sandbox.hspconsortium.org) to create an account. Once logged in, create a sandbox which uses FHIR version R4, which allows an open endpoint, and which imports sample patients.\n",
    "\n",
    "![create-sandbox](imgs/mynewsandbox.png)\n",
    "\n",
    "Once created, click on the \"Settings\" tab on the left and copy the \"Open FHIR Server URL\". It should look like this:\n",
    "\n",
    "![open-url](imgs/mynewopenurl.png)"
   ]
  },
  {
   "cell_type": "code",
   "execution_count": 1,
   "metadata": {},
   "outputs": [],
   "source": [
    "import requests,json,statistics\n",
    "# Paste your Open FHIR Server URL here\n",
    "base = 'https://api.logicahealth.org/mynewsandbox/open'"
   ]
  },
  {
   "cell_type": "markdown",
   "metadata": {},
   "source": [
    "### Pagination"
   ]
  },
  {
   "cell_type": "markdown",
   "metadata": {},
   "source": [
    "When returning data for a wide-net cohort query (e.g. return all males patients on server), FHIR servers return the results as a FHIR Bundle resource . This is opposed to a specific by-ID query (e.g. return the patient whose ID is 1234) which will only return a single resource with that ID. \n",
    "\n",
    "FHIR Bundle resources have a default limit of 20 resources <i>per page</i>. This can be extended up to 200 resources per page by including the following parameter in the query.\n",
    "        \n",
    "        &_count=200\n",
    "        \n",
    "However, most queries will match more than 200 resources. This is where pagination will come into play. The server has multiple pages of responses, but can only send them one at a time. If your query has additional pages of responses waiting, the bundle you get will include a link to the next page of resources. It will also tell you the \"total\" number of resource included across all pages of responses.\n",
    "\n",
    "        {\n",
    "            \"resourceType\": \"Bundle\",\n",
    "            \"id\": \"c413c0a7-e9a6-43a3-9d99-8ababefe8bbf\",\n",
    "            \"meta\": {\n",
    "                \"lastUpdated\": \"2019-06-18T14:18:47.329+00:00\"\n",
    "            },\n",
    "            \"type\": \"searchset\",\n",
    "            \"total\": 272,\n",
    "            \"link\": [\n",
    "                {\n",
    "                    \"relation\": \"self\",\n",
    "                    \"url\": \"<URL YOU JUST USED>\"\n",
    "                },\n",
    "                {\n",
    "                    \"relation\": \"next\",\n",
    "                    \"url\": \"<URL YOU CAN USE TO GET THE NEXT PAGE>\"\n",
    "                }\n",
    "            ],\n",
    "            ....\n",
    "\n",
    "You can then extract the link, perform another GET request, get that next page, and repeat. Once a bundle no longer contains a \"next\" link, you know that you have gotten to the last page of responses. An example query will be included below to show one way of looping through bundles. However, this approach could change in relation to your specific use-case."
   ]
  },
  {
   "cell_type": "code",
   "execution_count": 2,
   "metadata": {},
   "outputs": [],
   "source": [
    "def next_bundle(url):\n",
    "    next = True\n",
    "    r = requests.get(url)\n",
    "    bundle = json.loads(r.text)\n",
    "    try:\n",
    "        for link in bundle['link']:\n",
    "            if link['relation'] == 'self':\n",
    "                next = False\n",
    "            if link['relation'] == 'next':\n",
    "                next = True\n",
    "                url = link['url']\n",
    "    except:\n",
    "        print('server error')\n",
    "    return next,url,bundle"
   ]
  },
  {
   "cell_type": "markdown",
   "metadata": {},
   "source": [
    "#### Example - the number of male patients who live in each state"
   ]
  },
  {
   "cell_type": "code",
   "execution_count": 8,
   "metadata": {},
   "outputs": [
    {
     "name": "stdout",
     "output_type": "stream",
     "text": [
      "{'OK': 27, 'NC': 1, 'MA': 1, 'Utah': 7}\n"
     ]
    }
   ],
   "source": [
    "next = True\n",
    "url = base + '/Patient?gender=male&_count=200'\n",
    "#Use a dictionary to store language counts\n",
    "state_counts = {}\n",
    "\n",
    "while next == True:\n",
    "    #Check to see if we will need to handle another bundle after this current one\n",
    "    next,url,bundle = next_bundle(url)\n",
    "    #Parse resources in the current bundle\n",
    "    for r in bundle['entry']:\n",
    "        try:\n",
    "            #Pull the state from the address field of the resource\n",
    "            state = r['resource']['address'][0]['state']\n",
    "            #If the state has already been seen, increment its counter, if not, add it to the dictionary\n",
    "            if state in state_counts:\n",
    "                state_counts[state] += 1\n",
    "            else:\n",
    "                state_counts[state] = 1\n",
    "        except:\n",
    "            pass\n",
    "print(state_counts)"
   ]
  },
  {
   "cell_type": "markdown",
   "metadata": {},
   "source": [
    "#### 1. The code of the condition afflicting the most patients\n",
    "Solution: 38341003"
   ]
  },
  {
   "cell_type": "code",
   "execution_count": null,
   "metadata": {},
   "outputs": [],
   "source": []
  },
  {
   "cell_type": "markdown",
   "metadata": {},
   "source": [
    "#### 2. The number of encounters in 2009\n",
    "Solution: 70"
   ]
  },
  {
   "cell_type": "code",
   "execution_count": null,
   "metadata": {},
   "outputs": [],
   "source": []
  },
  {
   "cell_type": "markdown",
   "metadata": {},
   "source": [
    "#### 3. The average of all height observations\n",
    "Hint: the python statistics library (imported above) can find the average of a list using the statistics.mean( ) command\n",
    "\n",
    "Solution: 158.7191802969917"
   ]
  },
  {
   "cell_type": "code",
   "execution_count": null,
   "metadata": {},
   "outputs": [],
   "source": []
  },
  {
   "cell_type": "markdown",
   "metadata": {},
   "source": [
    "#### 4. First and last name of the heaviest patient\n",
    "Solution: Kimberly Moore"
   ]
  },
  {
   "cell_type": "code",
   "execution_count": null,
   "metadata": {},
   "outputs": [],
   "source": []
  },
  {
   "cell_type": "markdown",
   "metadata": {},
   "source": [
    "#### 5. Number of patients taking 'clopidogrel 75 MG Oral Tablet [Plavix]'\n",
    "Hint: use the MedicationDispense resourceHint: use the MedicationDispense resource\n",
    "\n",
    "Solution: 52"
   ]
  },
  {
   "cell_type": "code",
   "execution_count": null,
   "metadata": {},
   "outputs": [],
   "source": []
  },
  {
   "cell_type": "markdown",
   "metadata": {},
   "source": [
    "#### 6. Number of patients born in the month of December\n",
    "Solution: 12"
   ]
  },
  {
   "cell_type": "code",
   "execution_count": null,
   "metadata": {},
   "outputs": [],
   "source": []
  },
  {
   "cell_type": "markdown",
   "metadata": {},
   "source": [
    "#### 7. The birth year of the oldest patient with a peanut allergy\n",
    "Solution: 1968"
   ]
  },
  {
   "cell_type": "code",
   "execution_count": null,
   "metadata": {},
   "outputs": [],
   "source": []
  },
  {
   "cell_type": "markdown",
   "metadata": {},
   "source": [
    "#### 8. The average heart_rate of Brian Q. Gracia for each year recorded\n",
    "Printed as a dictionary where key=year and value=rate average for that year\n",
    "\n",
    "Solution: {'1997': 93.5, '2001': 76.0, '2003': 74.45454545454545, '2006': 77.0}"
   ]
  },
  {
   "cell_type": "code",
   "execution_count": null,
   "metadata": {},
   "outputs": [],
   "source": []
  }
 ],
 "metadata": {
  "kernelspec": {
   "display_name": "Python 3",
   "language": "python",
   "name": "python3"
  },
  "language_info": {
   "codemirror_mode": {
    "name": "ipython",
    "version": 3
   },
   "file_extension": ".py",
   "mimetype": "text/x-python",
   "name": "python",
   "nbconvert_exporter": "python",
   "pygments_lexer": "ipython3",
   "version": "3.7.3"
  }
 },
 "nbformat": 4,
 "nbformat_minor": 2
}
