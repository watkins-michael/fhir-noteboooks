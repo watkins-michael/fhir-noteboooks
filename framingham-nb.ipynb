{
 "cells": [
  {
   "cell_type": "markdown",
   "metadata": {},
   "source": [
    "## Framingham Risk Calculator - Jupyter"
   ]
  },
  {
   "cell_type": "markdown",
   "metadata": {},
   "source": [
    "INSTRUCTIONS (<i>from the the MDCalc version of the calculator found [here](https://www.mdcalc.com/framingham-risk-score-hard-coronary-heart-disease)</i>):\n",
    "\n",
    "There are several distinct Framingham risk models. MDCalc uses the 'Hard' coronary Framingham outcomes model, which is intended for use in non-diabetic patients age 30-79 years with no prior history of coronary heart disease or intermittent claudication, as it is the most widely applicable to patients without previous cardiac events. See the official Framingham [website](https://www.framinghamheartstudy.org/fhs-risk-functions/hard-coronary-heart-disease-10-year-risk/) for additional Framingham risk models."
   ]
  },
  {
   "cell_type": "markdown",
   "metadata": {},
   "source": [
    "### Overview"
   ]
  },
  {
   "cell_type": "markdown",
   "metadata": {},
   "source": [
    "This notebook will include the following:\n",
    "* We will use Python to program our own version of the Framingham Risk Calculator. \n",
    "* We will pull patient resources from a FHIR server to test our calculator.\n",
    "\n",
    "A final version of the calculator is included in its own cell at the end of the notebook for those who don't want to go through the entire notebook."
   ]
  },
  {
   "cell_type": "markdown",
   "metadata": {},
   "source": [
    "### Calculating the risk"
   ]
  },
  {
   "cell_type": "markdown",
   "metadata": {},
   "source": [
    "The formula for both men and women can be found [here](https://www.mdcalc.com/framingham-risk-score-hard-coronary-heart-disease#evidence)"
   ]
  },
  {
   "cell_type": "code",
   "execution_count": 1,
   "metadata": {},
   "outputs": [],
   "source": [
    "import math\n",
    "male_avg = {range(30,35):'1%',range(35,45):'4%',range(45,50):'8%',range(50,55):'10%',range(55,60):'13%',range(60,65):'20%',range(65,70): '22%',range(70,75):'25%'}\n",
    "female_avg = {range(30,35):'<1%',range(35,40):'<1%',range(40-45):'1%',range(45,50):'2%',range(50,55):'3%',range(55,60):'7%',range(60,65):'8%',range(65,70): '8%',range(70,75):'11%'}"
   ]
  },
  {
   "cell_type": "code",
   "execution_count": 2,
   "metadata": {
    "scrolled": true
   },
   "outputs": [],
   "source": [
    "def male_fram(age,smoker,total_chol,hdl_chol,sys,treated):\n",
    "    if age < 30 or age > 79:\n",
    "        return ['old']\n",
    "    if age > 70:\n",
    "        age_smoke = 70\n",
    "    else:\n",
    "        age_smoke = age\n",
    "            \n",
    "    l = 52.000961*math.log(age) + 20.014077*math.log(total_chol) + -0.905964*math.log(hdl_chol) + \\\n",
    "    1.305784*math.log(sys) + 0.241549*treated + 12.096316*smoker + -4.605038*math.log(age)*math.log(total_chol) + \\\n",
    "    -2.84367*math.log(age_smoke)*smoker + -2.93323*math.log(age)*math.log(age) - 172.300168\n",
    "    \n",
    "    prob = 1 - 0.9402**math.exp(l)\n",
    "    if age > 75:\n",
    "        return [prob*100,'old']\n",
    "    else:\n",
    "        for group in male_avg:\n",
    "            if age in group:\n",
    "                return [prob*100, male_avg[group]]"
   ]
  },
  {
   "cell_type": "code",
   "execution_count": 3,
   "metadata": {},
   "outputs": [],
   "source": [
    "def female_fram(age,smoker,total_chol,hdl_chol,sys,treated):\n",
    "    if age < 30 or age > 79:\n",
    "        return ['old']\n",
    "    if age > 78:\n",
    "        age_smoke = 78\n",
    "    else:\n",
    "        age_smoke = age\n",
    "            \n",
    "    l = 31.764001*math.log(age) + 22.465206*math.log(total_chol) + -1.187731*math.log(hdl_chol) + \\\n",
    "    2.552905*math.log(sys) + 0.420251*treated + 13.07543*smoker + -5.060998*math.log(age)*math.log(total_chol) + \\\n",
    "    -2.996945*math.log(age_smoke)*smoker - 146.5933061\n",
    "    \n",
    "    prob = 1 - 0.98767**math.exp(l)\n",
    "    if age > 75:\n",
    "        return [prob*100,'old']\n",
    "    else:\n",
    "        for group in female_avg:\n",
    "            if age in group:\n",
    "                return [prob*100, female_avg[group]]"
   ]
  },
  {
   "cell_type": "markdown",
   "metadata": {},
   "source": [
    "### Pulling FHIR data"
   ]
  },
  {
   "cell_type": "markdown",
   "metadata": {},
   "source": [
    "We need the following data points for each patient:\n",
    "* Age\n",
    "* Gender\n",
    "* Smoking status (Yes = 1, No = 0)\n",
    "* Systolic blood pressure\n",
    "* Total cholesterol\n",
    "* HDL cholesterol\n",
    "* Is the patient's blood pressure being treated with medicines? (Yes = 1, No = 0)\n",
    "\n",
    "We will use the Python requests library for executing our queries against the server. This means we need the appropriate URL for each of the resources we want. A helpful tool for building request URLs is the clinFHIR [Server Query](http://clinfhir.com/query.html) tool. It will help you see which request fields are available for each resource. The alternative would be to find request example URLs in the FHIR specification for each resource."
   ]
  },
  {
   "cell_type": "code",
   "execution_count": 5,
   "metadata": {},
   "outputs": [],
   "source": [
    "import requests,json,datetime,pandas\n",
    "base = 'https://api.logicahealth.org/stratfhireducation/open/'"
   ]
  },
  {
   "cell_type": "markdown",
   "metadata": {},
   "source": [
    "#### Patient resource - name, age, and gender"
   ]
  },
  {
   "cell_type": "markdown",
   "metadata": {},
   "source": [
    "Typically, a FHIR app is launched within the EHR and, as a result, will have the ID of the patient resource for the subject."
   ]
  },
  {
   "cell_type": "code",
   "execution_count": 6,
   "metadata": {},
   "outputs": [],
   "source": [
    "r = requests.get(base + 'Patient?_id=fake')"
   ]
  },
  {
   "cell_type": "markdown",
   "metadata": {},
   "source": [
    "A query to a FHIR server will typically return a bundle resource. If it did not find the resource you were asking for then the bundle won't contain any resources and will look something like this."
   ]
  },
  {
   "cell_type": "code",
   "execution_count": 7,
   "metadata": {},
   "outputs": [
    {
     "name": "stdout",
     "output_type": "stream",
     "text": [
      "{\n",
      "  \"resourceType\": \"Bundle\",\n",
      "  \"id\": \"1501eb6b-9e9b-4e9b-b5b0-1f0027dc5a18\",\n",
      "  \"meta\": {\n",
      "    \"lastUpdated\": \"2019-10-23T18:35:23.985+00:00\"\n",
      "  },\n",
      "  \"type\": \"searchset\",\n",
      "  \"total\": 0,\n",
      "  \"link\": [\n",
      "    {\n",
      "      \"relation\": \"self\",\n",
      "      \"url\": \"https://api.logicahealth.org/stratfhireducation/open/Patient?_id=fake\"\n",
      "    }\n",
      "  ]\n",
      "}\n"
     ]
    }
   ],
   "source": [
    "print(r.text)"
   ]
  },
  {
   "cell_type": "markdown",
   "metadata": {},
   "source": [
    "FHIR resources are in the JSON format. This means that all data fields have a key and a value. However, be aware that some values can be lists of additional key:value pairs. You can identify lists because they use square brackets [ ]. We will print out the result of a valid query so you can get an idea for what this looks like."
   ]
  },
  {
   "cell_type": "code",
   "execution_count": 8,
   "metadata": {},
   "outputs": [],
   "source": [
    "#Available patient IDs: 422, 378, 338, 672, 260, 588, 538, 191, 467, 3\n",
    "patient_id = '422'\n",
    "r = requests.get(base + 'Patient?_id=' + patient_id)\n",
    "#print(r.text)"
   ]
  },
  {
   "cell_type": "markdown",
   "metadata": {},
   "source": [
    "Remember, if the value of a key is a list, you must specify which item in the list you want. As an example, we will extract the actual patient resource from the bundle resource which is the default return type for server queries. Since this is the only patient resource with the ID we used, there is only one item in the \"entry\" list. This means we want to take the item at position 0 of the \"entry\" list (the 1st item). \n",
    "\n",
    "Python currently sees our response as a string. Before we can extract fields we must cast it as a JSON object using the json.loads() command. "
   ]
  },
  {
   "cell_type": "code",
   "execution_count": 9,
   "metadata": {},
   "outputs": [],
   "source": [
    "bundle = json.loads(r.text)\n",
    "p = bundle['entry'][0]['resource']\n",
    "#print(p)"
   ]
  },
  {
   "cell_type": "markdown",
   "metadata": {},
   "source": [
    "We can extract the gender of the patient using a similar command"
   ]
  },
  {
   "cell_type": "code",
   "execution_count": 10,
   "metadata": {},
   "outputs": [
    {
     "name": "stdout",
     "output_type": "stream",
     "text": [
      "male\n"
     ]
    }
   ],
   "source": [
    "gender = p['gender']\n",
    "print(gender)"
   ]
  },
  {
   "cell_type": "markdown",
   "metadata": {},
   "source": [
    "The 'name' field can be confusing at first. The 'given' field (first name) is usually a list while the 'family' field (last name) is usually just a string. The numbers in this example are common to all patients on this server since it's synthetic data."
   ]
  },
  {
   "cell_type": "code",
   "execution_count": 11,
   "metadata": {},
   "outputs": [
    {
     "name": "stdout",
     "output_type": "stream",
     "text": [
      "Dmitri 1Fram\n"
     ]
    }
   ],
   "source": [
    "first = p['name'][0]['given'][0]\n",
    "last = p['name'][0]['family']\n",
    "name = first + ' ' + last\n",
    "print(name)"
   ]
  },
  {
   "cell_type": "markdown",
   "metadata": {},
   "source": [
    "Age will also present some difficulty since we are only provided with the date of birth. Thankfully, Python's datetime library has some helpful tools for working with dates. We can extract the birth year by splitting the string on '-' and selecting the first item in the resulting list. Then, if we convert that to an integer, we can calculate the age."
   ]
  },
  {
   "cell_type": "code",
   "execution_count": 12,
   "metadata": {},
   "outputs": [
    {
     "name": "stdout",
     "output_type": "stream",
     "text": [
      "37\n"
     ]
    }
   ],
   "source": [
    "birth_year = p['birthDate'].split('-')[0]\n",
    "current_year = datetime.date.today().year\n",
    "age = current_year - int(birth_year)\n",
    "print(age)"
   ]
  },
  {
   "cell_type": "markdown",
   "metadata": {},
   "source": [
    "#### Observation resource - smoking status, systolic BP, total cholesterol, HDL cholesterol"
   ]
  },
  {
   "cell_type": "markdown",
   "metadata": {},
   "source": [
    "Observation resources are a very generic resource and can represent many different things. To make sure that everyone take a standardized approach to using observations, profiles have been created to constrain how to use observations to represent clinical concepts.\n",
    "\n",
    "A good first step when building the query for a concept you haven't worked with before is to consult the US Core Profile [guide](https://build.fhir.org/ig/HL7/US-Core-R4/). The guidelines change depending on the FHIR version you are using. This example uses the R4 version of FHIR.\n",
    "\n",
    "If we look into the guide we'll see that there is a defined SmokingStatus [profile](https://build.fhir.org/ig/HL7/US-Core-R4/StructureDefinition-us-core-smokingstatus.html). As we explore the profile we find that a SmokingStatus observation should be given the LOINC code 72166-2. We'll also see that the possible values for each SmokingStatus observation are constrained to a ValueSet of the possible statuses: Current every day smoker, Current some day smoker, Former smoker, Never smoker, Smoker - current status unknown, Unknown if ever smoked, Current Heavy tobacco smoker, Current Light tobacco smoker.\n",
    "\n",
    "We can then query for the most recent observation with a 'subject' equal to the ID we used already to pull the patient resource, and which also has a 'code' of 72166-2.\n",
    "\n",
    "If the SmokingStatus observation is 'Never Smoker' then we will give the patient a 'No' value for the calculator, otherwise, we will assume that they are a smoker and will give a 'Yes' value."
   ]
  },
  {
   "cell_type": "code",
   "execution_count": 13,
   "metadata": {},
   "outputs": [],
   "source": [
    "url = base + 'Observation?subject=' + patient_id + '&code=72166-2'\n",
    "smoker = 1\n",
    "\n",
    "#Send the query\n",
    "r = requests.get(url)\n",
    "#Create a JSON object of the result\n",
    "bundle = json.loads(r.text)\n",
    "#Check to make sure a resource was returned\n",
    "if bundle['total'] != 0:\n",
    "    #Parse the contents of that resource\n",
    "    status = bundle['entry'][0]['resource']['valueCodeableConcept']['text']\n",
    "    if status == 'Never smoker':\n",
    "        smoker = 0\n",
    "    else:\n",
    "        print(status)\n",
    "else:\n",
    "    print('None found')"
   ]
  },
  {
   "cell_type": "markdown",
   "metadata": {},
   "source": [
    "Blood pressure is part of the Vital Signs Panel [profile](http://hl7.org/fhir/R4/observation-vitalsigns.html). From that profile we see that there is a defined structure for representing blood pressure levels. We will query for the most recent blood pressure observation and will extract the systolic measurement which are stored as a component in that observation."
   ]
  },
  {
   "cell_type": "code",
   "execution_count": 14,
   "metadata": {},
   "outputs": [
    {
     "name": "stdout",
     "output_type": "stream",
     "text": [
      "125\n"
     ]
    }
   ],
   "source": [
    "url = base + 'Observation?subject=' + patient_id + '&code=55284-4'\n",
    "sys = ''\n",
    "#Send the query\n",
    "r = requests.get(url)\n",
    "#Create a JSON object of the result\n",
    "bundle = json.loads(r.text)\n",
    "#Check to make sure a resource was returned\n",
    "if bundle['total'] != 0:\n",
    "    #Parse the contents of that resource\n",
    "    for component in bundle['entry'][0]['resource']['component']:\n",
    "        #Check for the systolic value (we don't want dialstolic)\n",
    "        if component['code']['text'] == 'Systolic Blood Pressure':\n",
    "            sys = component['valueQuantity']['value']\n",
    "            print(sys)\n",
    "else:\n",
    "    print('None found')"
   ]
  },
  {
   "cell_type": "markdown",
   "metadata": {},
   "source": [
    "Cholesterol values are stored together as part of a single lipid panel, as described in the lipid lab report [profile](https://www.hl7.org/fhir/lipidprofile.html). The actual results are stored as Observation resources. We will search for the most recent values."
   ]
  },
  {
   "cell_type": "code",
   "execution_count": 15,
   "metadata": {},
   "outputs": [
    {
     "name": "stdout",
     "output_type": "stream",
     "text": [
      "200\n"
     ]
    }
   ],
   "source": [
    "#Total cholesterol\n",
    "url = base + 'Observation?subject=' + patient_id + '&code=2093-3'\n",
    "total_chol = ''\n",
    "#Send the query\n",
    "r = requests.get(url)\n",
    "#Create a JSON object of the result\n",
    "bundle = json.loads(r.text)\n",
    "#Check to make sure a resource was returned\n",
    "if bundle['total'] != 0:\n",
    "    #Parse the contents of that resource\n",
    "    total_chol = bundle['entry'][0]['resource']['valueQuantity']['value']\n",
    "    print(total_chol)\n",
    "else:\n",
    "    print('None found')"
   ]
  },
  {
   "cell_type": "code",
   "execution_count": 16,
   "metadata": {},
   "outputs": [
    {
     "name": "stdout",
     "output_type": "stream",
     "text": [
      "58\n"
     ]
    }
   ],
   "source": [
    "#HDL cholesterol\n",
    "url = base + 'Observation?subject=' + patient_id + '&code=2085-9'\n",
    "hdl_chol = ''\n",
    "#Send the query\n",
    "r = requests.get(url)\n",
    "#Create a JSON object of the result\n",
    "bundle = json.loads(r.text)\n",
    "#Check to make sure a resource was returned\n",
    "if bundle['total'] != 0:\n",
    "    #Parse the contents of that resource\n",
    "    hdl_chol = bundle['entry'][0]['resource']['valueQuantity']['value']\n",
    "    print(hdl_chol)\n",
    "else:\n",
    "    print('None found')"
   ]
  },
  {
   "cell_type": "markdown",
   "metadata": {},
   "source": [
    "#### MedicationRequest resource - Is the patient's blood pressure being treated with medicines? "
   ]
  },
  {
   "cell_type": "markdown",
   "metadata": {},
   "source": [
    "This last piece of needed information will give a good introduction to working with patient medications. There are a few resources which each represent different aspects of how medications are used in a clinical setting. They are each described in the [R4 Medications Module](http://hl7.org/fhir/medications-module.html). A MedicationRequest resource is generated when the provider creates the instruction for a patient to take a certain medication. As you can imagine, this is usually the most convenient way to see which medications a patient should be taking or should have taken at some point of time. Whether or not the patient actually takes the medication is another story. We will assume that if a MedicationRequest resource exists for a certain medication that the patient took that medication as prescribed.\n",
    "\n",
    "We will also need to determine whether a given medication is a being used to treat blood pressure or not. To do this we will use a ValueSet resource. Explained [here](https://www.hl7.org/fhir/valueset.html), these are handy resources for constraining possible values which, for our case, is blood pressure medications. A ValueSet resource was created for this example and is stored in the server. It contains 5 values for possible blood pressure medications which are common to our synthetic patients. We will query the ValueSet resource by title which is \"blood-pressure-medication\" and will extract the associated medication codes. We will then build our URL from this ValueSet to search for any MedicationRequest resources with codes in that URL."
   ]
  },
  {
   "cell_type": "code",
   "execution_count": 17,
   "metadata": {},
   "outputs": [
    {
     "name": "stdout",
     "output_type": "stream",
     "text": [
      "1\n"
     ]
    }
   ],
   "source": [
    "#ValueSet\n",
    "url = base + 'MedicationRequest?subject=' + patient_id + '&code='\n",
    "r = requests.get(base + 'ValueSet?title=blood-pressure-medications')\n",
    "bundle = json.loads(r.text)\n",
    "valueset = bundle['entry'][0]['resource']['expansion']['contains']\n",
    "for meds in valueset:\n",
    "    #Add each code to the URL we will use for our MedicationRequest query\n",
    "    url += meds['code'] + ','\n",
    "#Take out trailing comma\n",
    "url = url[:-1]\n",
    "\n",
    "#MedicationRequest\n",
    "treated = 0\n",
    "#Send the query\n",
    "r = requests.get(url)\n",
    "#Create a JSON object of the result\n",
    "bundle = json.loads(r.text)\n",
    "#If any resources were returned, then they have been treated\n",
    "if bundle['total'] > 0:\n",
    "    treated = 1\n",
    "    print(treated)\n",
    "else:\n",
    "    print('None found')"
   ]
  },
  {
   "cell_type": "markdown",
   "metadata": {},
   "source": [
    "### Putting it all together"
   ]
  },
  {
   "cell_type": "markdown",
   "metadata": {},
   "source": [
    "The last step is to send each of the variables which we have collected through FHIR resources to the calculating functions. To do this, we will create functions for each of the processes described above (so that you don't need to run each cell in this notebook sequentially) and will call the appropriate calculating function. "
   ]
  },
  {
   "cell_type": "code",
   "execution_count": 3,
   "metadata": {},
   "outputs": [
    {
     "name": "stdout",
     "output_type": "stream",
     "text": [
      "Name:\t\t\tDmitri 1Fram\n",
      "Gender:\t\t\tmale\n",
      "Age:\t\t\t37\n",
      "Smoking status:\t\t0\n",
      "Systolic BP:\t\t125\n",
      "Total Cholesterol:\t200\n",
      "HDL Cholesterol:\t58\n",
      "Treated with BP meds:\tYES\n",
      "--------RESULT--------\n",
      "10-year risk of MI or death: 0.86  (Average: 4%)\n"
     ]
    }
   ],
   "source": [
    "import requests,json,datetime,pandas,math\n",
    "\n",
    "base = 'https://api.logicahealth.org/stratfhireducation/open/'\n",
    "patient_ID = '422'\n",
    "male_avg = {range(30,35):'1%',range(35,45):'4%',range(45,50):'8%',range(50,55):'10%',range(55,60):'13%',range(60,65):'20%',range(65,70): '22%',range(70,75):'25%'}\n",
    "female_avg = {range(30,35):'<1%',range(35,40):'<1%',range(40-45):'1%',range(45,50):'2%',range(50,55):'3%',range(55,60):'7%',range(60,65):'8%',range(65,70): '8%',range(70,75):'11%'}\n",
    "\n",
    "def launch():\n",
    "    result = ''\n",
    "    d = demographics()\n",
    "    if d[0] == 'error':\n",
    "        print('Malformed patient resource for: ' + patient_ID)\n",
    "        return\n",
    "    name = d[0]\n",
    "    gender = d[1]\n",
    "    age = d[2]\n",
    "    result += 'Name:\\t\\t\\t' + d[0]\n",
    "    result += '\\nGender:\\t\\t\\t' + d[1]\n",
    "    result += '\\nAge:\\t\\t\\t' + str(d[2])\n",
    "    smoker = smoking_status()\n",
    "    result += '\\nSmoking status:\\t\\t' + str(smoker)\n",
    "    sys = systolic()\n",
    "    if sys == 'error':\n",
    "        print('Systolic BP not found for patient: ' + patient_ID)\n",
    "        return\n",
    "    result += '\\nSystolic BP:\\t\\t' + str(sys)\n",
    "    c = cholesterol()\n",
    "    if c[0] == 'error':\n",
    "        print('Total Cholesterol or HDL Cholesterol not found for patient: ' + patient_ID)\n",
    "    total_chol = c[0]\n",
    "    hdl_chol = c[1]\n",
    "    result += '\\nTotal Cholesterol:\\t' + str(c[0])\n",
    "    result += '\\nHDL Cholesterol:\\t' + str(c[1])  \n",
    "    treated = bp_med_status()\n",
    "    if treated == 1:\n",
    "        result += '\\nTreated with BP meds:\\tYES'\n",
    "    else:\n",
    "        result += '\\nTreated with BP meds:\\tNO'\n",
    "    #Calculate risk\n",
    "    r = ''\n",
    "    if gender == 'female':\n",
    "        r = female_fram(age,smoker,total_chol,hdl_chol,sys,treated)\n",
    "    else:\n",
    "        r = male_fram(age,smoker,total_chol,hdl_chol,sys,treated)\n",
    "    risk = r[0]\n",
    "    if risk == 'old':\n",
    "        print('Risk can only be calculated for ages 30-79\\n Age: ' + str(age))\n",
    "        return\n",
    "    result += '\\n--------RESULT--------'\n",
    "    avg = r[1]\n",
    "    if avg == 'old':\n",
    "        result += '\\n10-year risk of MI or death: ' + str(round(risk, 2)) + ' (No average reference above 74 years old)'\n",
    "    else:\n",
    "        result += '\\n10-year risk of MI or death: ' + str(round(risk, 2)) + '  (Average: ' + avg + ')'\n",
    "    print(result)\n",
    "\n",
    "def demographics(): \n",
    "    r = requests.get(base + 'Patient?_id=' + patient_ID)\n",
    "    bundle = json.loads(r.text)\n",
    "    try:\n",
    "        p = bundle['entry'][0]['resource']\n",
    "        #Name\n",
    "        first = p['name'][0]['given'][0]\n",
    "        last = p['name'][0]['family']\n",
    "        name = first + ' ' + last\n",
    "        #Gender\n",
    "        gender = p['gender']\n",
    "        #Age\n",
    "        birth_year = p['birthDate'].split('-')[0]\n",
    "        current_year = datetime.date.today().year\n",
    "        age = current_year - int(birth_year)\n",
    "        return [name,gender,age]\n",
    "    except:\n",
    "        return ['error']\n",
    "\n",
    "def smoking_status():\n",
    "    url = base + 'Observation?subject=' + patient_ID + '&code=72166-2'\n",
    "    smoker = 1\n",
    "    #Send the query\n",
    "    r = requests.get(url)\n",
    "    #Create a JSON object of the result\n",
    "    bundle = json.loads(r.text)\n",
    "    #Check to make sure a resource was returned\n",
    "    if bundle['total'] != 0:\n",
    "        #Parse the contents of that resource\n",
    "        status = bundle['entry'][0]['resource']['valueCodeableConcept']['text']\n",
    "        if status == 'Never smoker':\n",
    "            smoker = 0\n",
    "    return smoker\n",
    "\n",
    "def systolic():\n",
    "    url = base + 'Observation?subject=' + patient_ID + '&code=55284-4'\n",
    "    sys = ''\n",
    "    #Send the query\n",
    "    r = requests.get(url)\n",
    "    #Create a JSON object of the result\n",
    "    bundle = json.loads(r.text)\n",
    "    #Check to make sure a resource was returned\n",
    "    if bundle['total'] != 0:\n",
    "        #Parse the contents of that resource\n",
    "        for component in bundle['entry'][0]['resource']['component']:\n",
    "            #Check for the systolic value (we don't want diastolic)\n",
    "            if component['code']['text'] == 'Systolic Blood Pressure':\n",
    "                sys = component['valueQuantity']['value']\n",
    "                return sys\n",
    "    else:\n",
    "        return 'error'\n",
    "    \n",
    "def cholesterol():\n",
    "    #Total cholesterol\n",
    "    url = base + 'Observation?subject=' + patient_ID + '&code=2093-3'\n",
    "    total_chol = ''\n",
    "    #Send the query\n",
    "    r = requests.get(url)\n",
    "    #Create a JSON object of the result\n",
    "    bundle = json.loads(r.text)\n",
    "    #Check to make sure a resource was returned\n",
    "    if bundle['total'] != 0:\n",
    "        #Parse the contents of that resource\n",
    "        total_chol = bundle['entry'][0]['resource']['valueQuantity']['value']\n",
    "    else:\n",
    "        return ['error']\n",
    "    #HDL cholesterol\n",
    "    url = base + 'Observation?subject=' + patient_ID + '&code=2085-9'\n",
    "    hdl_chol = ''\n",
    "    #Send the query\n",
    "    r = requests.get(url)\n",
    "    #Create a JSON object of the result\n",
    "    bundle = json.loads(r.text)\n",
    "    #Check to make sure a resource was returned\n",
    "    if bundle['total'] != 0:\n",
    "        #Parse the contents of that resource\n",
    "        hdl_chol = bundle['entry'][0]['resource']['valueQuantity']['value']\n",
    "    else:\n",
    "        return ['error'] \n",
    "    return [total_chol,hdl_chol]\n",
    "\n",
    "\n",
    "def bp_med_status():\n",
    "    #ValueSet\n",
    "    url = base + 'MedicationRequest?subject=' + patient_ID + '&code='\n",
    "    r = requests.get(base + 'ValueSet?title=blood-pressure-medications')\n",
    "    bundle = json.loads(r.text)\n",
    "    for meds in bundle['entry'][0]['resource']['expansion']['contains']:\n",
    "        #Add each code to the URL we will use for our MedicationRequest queries\n",
    "        url += meds['code'] + ','\n",
    "    #Take out trailing comma\n",
    "    url = url[:-1]\n",
    "    #MedicationRequest\n",
    "    treated = 0\n",
    "    #Send the query\n",
    "    r = requests.get(url)\n",
    "    #Create a JSON object of the result\n",
    "    bundle = json.loads(r.text)\n",
    "    #If any resources were returned, then they have been treated\n",
    "    if bundle['total'] != 0:\n",
    "        treated = 1\n",
    "    return treated\n",
    "\n",
    "def male_fram(age,smoker,total_chol,hdl_chol,sys_bp,treated):\n",
    "    if age < 30 or age > 79:\n",
    "        return ['old']\n",
    "    if age > 70:\n",
    "        age_smoke = 70\n",
    "    else:\n",
    "        age_smoke = age\n",
    "            \n",
    "    l = 52.000961*math.log(age) + 20.014077*math.log(total_chol) + -0.905964*math.log(hdl_chol) + \\\n",
    "    1.305784*math.log(sys_bp) + 0.241549*treated + 12.096316*smoker + -4.605038*math.log(age)*math.log(total_chol) + \\\n",
    "    -2.84367*math.log(age_smoke)*smoker + -2.93323*math.log(age)*math.log(age) - 172.300168\n",
    "    \n",
    "    prob = 1 - 0.9402**math.exp(l)\n",
    "    if age > 75:\n",
    "        return [prob*100,'old']\n",
    "    else:\n",
    "        for group in male_avg:\n",
    "            if age in group:\n",
    "                return [prob*100, male_avg[group]]\n",
    "            \n",
    "def female_fram(age,smoker,total_chol,hdl_chol,sys_bp,treated):\n",
    "    if age < 30 or age > 79:\n",
    "        return ['old']\n",
    "    if age > 78:\n",
    "        age_smoke = 78\n",
    "    else:\n",
    "        age_smoke = age\n",
    "            \n",
    "    l = 31.764001*math.log(age) + 22.465206*math.log(total_chol) + -1.187731*math.log(hdl_chol) + \\\n",
    "    2.552905*math.log(sys_bp) + 0.420251*treated + 13.07543*smoker + -5.060998*math.log(age)*math.log(total_chol) + \\\n",
    "    -2.996945*math.log(age_smoke)*smoker - 146.5933061\n",
    "    \n",
    "    prob = 1 - 0.98767**math.exp(l)\n",
    "    if age > 75:\n",
    "        return [prob*100,'old']\n",
    "    else:\n",
    "        for group in female_avg:\n",
    "            if age in group:\n",
    "                return [prob*100, female_avg[group]]\n",
    "            \n",
    "launch()"
   ]
  },
  {
   "cell_type": "code",
   "execution_count": null,
   "metadata": {},
   "outputs": [],
   "source": []
  }
 ],
 "metadata": {
  "kernelspec": {
   "display_name": "Python 3",
   "language": "python",
   "name": "python3"
  },
  "language_info": {
   "codemirror_mode": {
    "name": "ipython",
    "version": 3
   },
   "file_extension": ".py",
   "mimetype": "text/x-python",
   "name": "python",
   "nbconvert_exporter": "python",
   "pygments_lexer": "ipython3",
   "version": "3.7.3"
  }
 },
 "nbformat": 4,
 "nbformat_minor": 2
}
