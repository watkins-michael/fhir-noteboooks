{
 "cells": [
  {
   "cell_type": "markdown",
   "metadata": {},
   "source": [
    "## Framingham Risk Calculator - Jupyter"
   ]
  },
  {
   "cell_type": "markdown",
   "metadata": {},
   "source": [
    "INSTRUCTIONS (<i>from the the MDCalc version of the calculator found [here](https://www.mdcalc.com/framingham-risk-score-hard-coronary-heart-disease)</i>):\n",
    "\n",
    "There are several distinct Framingham risk models. MDCalc uses the 'Hard' coronary Framingham outcomes model, which is intended for use in non-diabetic patients age 30-79 years with no prior history of coronary heart disease or intermittent claudication, as it is the most widely applicable to patients without previous cardiac events. See the official Framingham [website](https://www.framinghamheartstudy.org/fhs-risk-functions/hard-coronary-heart-disease-10-year-risk/) for additional Framingham risk models."
   ]
  },
  {
   "cell_type": "markdown",
   "metadata": {},
   "source": [
    "### Overview"
   ]
  },
  {
   "cell_type": "markdown",
   "metadata": {},
   "source": [
    "This notebook will include the following:\n",
    "* We will use Python to program our own version of the Framingham Risk Calculator. \n",
    "* We will pull FHIR resources from our sandboxes to test our calculator.\n",
    "\n",
    "A final version of the calculator is included in its own cell at the end of the notebook for those who don't want to go through the entire notebook."
   ]
  },
  {
   "cell_type": "markdown",
   "metadata": {},
   "source": [
    "### Adding Framingham patients to your sandbox"
   ]
  },
  {
   "cell_type": "markdown",
   "metadata": {},
   "source": [
    "We will be using the same FHIR sandbox that we used in the query activity. Framingham requires specific data points (blood pressure, cholesterol levels, medications, and smoking status) that none of the sample patients have. \n",
    "\n",
    "Logica sandboxes have a data importing portal that we will use to add three new patients that have the data we need. \n",
    "\n",
    "1. Download the <i>fram-resource-bundle.json</i> file from the Project folder onto your computer.\n",
    "![download-file](imgs/download-file.png)\n",
    "2. Select the \"Data Manager\" tab on the left sidebar of the sandbox.\n",
    "3. Select \"IMPORT\".\n",
    "4. Click the \"LOAD FROM FILE\" button in the top right corner.\n",
    "5. Select the <i>fram-resource-bundle.json</i> file you downloaded in step 1.\n",
    "![add-bundle](imgs/add-bundle.png)\n",
    "\n",
    "You should see a list of \"201 created\" responses in the \"RESULTS\" tab. \n",
    "\n",
    "![201-created](imgs/201-created.png)\n",
    "\n",
    "You can use the \"Patient\" tab on the left sidebar of the sandbox to confirm that there are three new patients with associated data. The identifiers will differ between each sandbox, but keep them at hand because they will be used in the queries below.\n",
    "\n",
    "![new-patient](imgs/new-patients.png)"
   ]
  },
  {
   "cell_type": "markdown",
   "metadata": {},
   "source": [
    "### Calculating the risk"
   ]
  },
  {
   "cell_type": "markdown",
   "metadata": {},
   "source": [
    "The formula for both men and women can be found [here](https://www.mdcalc.com/framingham-risk-score-hard-coronary-heart-disease#evidence). We have translated it into python functions, one for men and one for women (since the calculation varies slightly by gender)."
   ]
  },
  {
   "cell_type": "code",
   "execution_count": 2,
   "metadata": {
    "scrolled": true
   },
   "outputs": [],
   "source": [
    "def male_fram(age,smoker,total_chol,hdl_chol,sys,treated):\n",
    "    if age < 30 or age > 79:\n",
    "        return ['old']\n",
    "    if age > 70:\n",
    "        age_smoke = 70\n",
    "    else:\n",
    "        age_smoke = age\n",
    "            \n",
    "    l = 52.000961*math.log(age) + 20.014077*math.log(total_chol) + -0.905964*math.log(hdl_chol) + \\\n",
    "    1.305784*math.log(sys) + 0.241549*treated + 12.096316*smoker + -4.605038*math.log(age)*math.log(total_chol) + \\\n",
    "    -2.84367*math.log(age_smoke)*smoker + -2.93323*math.log(age)*math.log(age) - 172.300168\n",
    "    \n",
    "    prob = 1 - 0.9402**math.exp(l)\n",
    "    if age > 75:\n",
    "        return [prob*100,'old']\n",
    "    else:\n",
    "        for group in male_avg:\n",
    "            if age in group:\n",
    "                return [prob*100, male_avg[group]]"
   ]
  },
  {
   "cell_type": "code",
   "execution_count": 3,
   "metadata": {},
   "outputs": [],
   "source": [
    "def female_fram(age,smoker,total_chol,hdl_chol,sys,treated):\n",
    "    if age < 30 or age > 79:\n",
    "        return ['old']\n",
    "    if age > 78:\n",
    "        age_smoke = 78\n",
    "    else:\n",
    "        age_smoke = age\n",
    "            \n",
    "    l = 31.764001*math.log(age) + 22.465206*math.log(total_chol) + -1.187731*math.log(hdl_chol) + \\\n",
    "    2.552905*math.log(sys) + 0.420251*treated + 13.07543*smoker + -5.060998*math.log(age)*math.log(total_chol) + \\\n",
    "    -2.996945*math.log(age_smoke)*smoker - 146.5933061\n",
    "    \n",
    "    prob = 1 - 0.98767**math.exp(l)\n",
    "    if age > 75:\n",
    "        return [prob*100,'old']\n",
    "    else:\n",
    "        for group in female_avg:\n",
    "            if age in group:\n",
    "                return [prob*100, female_avg[group]]"
   ]
  },
  {
   "cell_type": "markdown",
   "metadata": {},
   "source": [
    "We also need reference ranges to determine whether a risk score is normal or high for a given age. We have included two dictionaries that will give reference information for certain ages by gender."
   ]
  },
  {
   "cell_type": "code",
   "execution_count": 1,
   "metadata": {},
   "outputs": [],
   "source": [
    "import math\n",
    "male_avg = {range(30,35):'1%',range(35,45):'4%',range(45,50):'8%',range(50,55):'10%',range(55,60):'13%',range(60,65):'20%',range(65,70): '22%',range(70,75):'25%'}\n",
    "female_avg = {range(30,35):'<1%',range(35,40):'<1%',range(40-45):'1%',range(45,50):'2%',range(50,55):'3%',range(55,60):'7%',range(60,65):'8%',range(65,70): '8%',range(70,75):'11%'}"
   ]
  },
  {
   "cell_type": "markdown",
   "metadata": {},
   "source": [
    "### Pulling FHIR data"
   ]
  },
  {
   "cell_type": "markdown",
   "metadata": {},
   "source": [
    "We need the following data points for each patient in order to calculate risk:\n",
    "* Age\n",
    "* Gender\n",
    "* Smoking status (Yes = 1, No = 0)\n",
    "* Systolic blood pressure\n",
    "* Total cholesterol\n",
    "* HDL cholesterol\n",
    "* Is the patient's blood pressure being treated with medicines? (Yes = 1, No = 0)\n",
    "\n",
    "We will use the Python requests library for executing our queries. This means we need the appropriate URL for each of the resources we want. A helpful tool for building future request URLs is the clinFHIR [Server Query](http://clinfhir.com/query.html) tool. It will help you see which request fields are available for each resource. The alternative would be to find request example URLs in the FHIR specification for each resource.\n",
    "\n",
    "Our sandboxes are our data servers, you will need the same open data URL you used in the query activity."
   ]
  },
  {
   "cell_type": "code",
   "execution_count": 51,
   "metadata": {},
   "outputs": [],
   "source": [
    "import requests,json,datetime,pandas\n",
    "base = 'replace-this-with-your-open-url'"
   ]
  },
  {
   "cell_type": "markdown",
   "metadata": {},
   "source": [
    "#### Patient resource - name, age, and gender"
   ]
  },
  {
   "cell_type": "markdown",
   "metadata": {},
   "source": [
    "Typically, a FHIR app is launched within the EHR and, as a result, will have the ID of the patient resource for the subject."
   ]
  },
  {
   "cell_type": "code",
   "execution_count": 42,
   "metadata": {},
   "outputs": [],
   "source": [
    "r = requests.get(base + '/Patient?_id=fake')"
   ]
  },
  {
   "cell_type": "markdown",
   "metadata": {},
   "source": [
    "A query to a FHIR server will typically return a bundle resource. If it did not find the resource you were asking for then the bundle won't contain any resources and will look something like this."
   ]
  },
  {
   "cell_type": "code",
   "execution_count": 43,
   "metadata": {},
   "outputs": [
    {
     "name": "stdout",
     "output_type": "stream",
     "text": [
      "{\n",
      "  \"resourceType\": \"Bundle\",\n",
      "  \"id\": \"402f5f0e-4102-40b9-bb85-2ba6ee787a43\",\n",
      "  \"meta\": {\n",
      "    \"lastUpdated\": \"2020-02-14T19:03:18.896+00:00\"\n",
      "  },\n",
      "  \"type\": \"searchset\",\n",
      "  \"total\": 0,\n",
      "  \"link\": [\n",
      "    {\n",
      "      \"relation\": \"self\",\n",
      "      \"url\": \"https://api.logicahealth.org/fhirlabreportsandbox/open/Patient?_id=fake\"\n",
      "    }\n",
      "  ]\n",
      "}\n"
     ]
    }
   ],
   "source": [
    "print(r.text)"
   ]
  },
  {
   "cell_type": "markdown",
   "metadata": {},
   "source": [
    "FHIR resources are in the JSON format. This means that all data fields have a key and a value. However, be aware that some values can be lists of additional key:value pairs. You can identify lists because they use square brackets [ ]. We will print out the result of a valid query so you can get an idea for what this looks like.\n",
    "\n",
    "To query a patient, we will be using their IDs. Refer back to your \"Patient\" view in the sandbox to find the patient IDs for your Framingham patients."
   ]
  },
  {
   "cell_type": "code",
   "execution_count": 52,
   "metadata": {},
   "outputs": [
    {
     "name": "stdout",
     "output_type": "stream",
     "text": [
      "{\n",
      "  \"resourceType\": \"Bundle\",\n",
      "  \"id\": \"e93d8c92-42d4-43ef-9190-ee3b1304ad14\",\n",
      "  \"meta\": {\n",
      "    \"lastUpdated\": \"2020-02-24T21:04:13.851+00:00\"\n",
      "  },\n",
      "  \"type\": \"searchset\",\n",
      "  \"total\": 1,\n",
      "  \"link\": [\n",
      "    {\n",
      "      \"relation\": \"self\",\n",
      "      \"url\": \"https://api.logicahealth.org/framinghamrisk/open/Patient?_id=16702\"\n",
      "    }\n",
      "  ],\n",
      "  \"entry\": [\n",
      "    {\n",
      "      \"fullUrl\": \"https://api.logicahealth.org/framinghamrisk/open/Patient/16702\",\n",
      "      \"resource\": {\n",
      "        \"resourceType\": \"Patient\",\n",
      "        \"id\": \"16702\",\n",
      "        \"meta\": {\n",
      "          \"versionId\": \"1\",\n",
      "          \"lastUpdated\": \"2020-02-24T13:58:19.000+00:00\"\n",
      "        },\n",
      "        \"text\": {\n",
      "          \"status\": \"generated\",\n",
      "          \"div\": \"<div xmlns=\\\"http://www.w3.org/1999/xhtml\\\"><div class=\\\"hapiHeaderText\\\">Mr. Dmitri <b>1FRAM-LOW </b></div><table class=\\\"hapiPropertyTable\\\"><tbody><tr><td>Date of birth</td><td><span>19 June 1982</span></td></tr></tbody></table></div>\"\n",
      "        },\n",
      "        \"name\": [\n",
      "          {\n",
      "            \"use\": \"official\",\n",
      "            \"family\": \"1Fram-Low\",\n",
      "            \"given\": [\n",
      "              \"Dmitri\"\n",
      "            ],\n",
      "            \"prefix\": [\n",
      "              \"Mr.\"\n",
      "            ]\n",
      "          }\n",
      "        ],\n",
      "        \"gender\": \"male\",\n",
      "        \"birthDate\": \"1982-06-19\"\n",
      "      },\n",
      "      \"search\": {\n",
      "        \"mode\": \"match\"\n",
      "      },\n",
      "      \"response\": {\n",
      "        \"status\": \"201 Created\",\n",
      "        \"etag\": \"W/\\\"1\\\"\"\n",
      "      }\n",
      "    }\n",
      "  ]\n",
      "}\n"
     ]
    }
   ],
   "source": [
    "patient_id = 'replace-this-with-your-target-patient-id'\n",
    "r = requests.get(base + '/Patient?_id=' + patient_id)\n",
    "print(r.text)"
   ]
  },
  {
   "cell_type": "markdown",
   "metadata": {},
   "source": [
    "Remember, if the value of a key is a list, you must specify which item in the list you want. As an example, we will extract the actual patient resource from the bundle resource which is the default return type for server queries. Since this is the only patient resource with the ID we used, there is only one item in the \"entry\" list. This means we want to take the item at position 0 of the \"entry\" list (the 1st item). \n",
    "\n",
    "Python currently sees our response as a string. Before we can extract fields we must cast it as a JSON object using the json.loads() command. "
   ]
  },
  {
   "cell_type": "code",
   "execution_count": 53,
   "metadata": {},
   "outputs": [
    {
     "name": "stdout",
     "output_type": "stream",
     "text": [
      "{'resourceType': 'Patient', 'id': '16702', 'meta': {'versionId': '1', 'lastUpdated': '2020-02-24T13:58:19.000+00:00'}, 'text': {'status': 'generated', 'div': '<div xmlns=\"http://www.w3.org/1999/xhtml\"><div class=\"hapiHeaderText\">Mr. Dmitri <b>1FRAM-LOW </b></div><table class=\"hapiPropertyTable\"><tbody><tr><td>Date of birth</td><td><span>19 June 1982</span></td></tr></tbody></table></div>'}, 'name': [{'use': 'official', 'family': '1Fram-Low', 'given': ['Dmitri'], 'prefix': ['Mr.']}], 'gender': 'male', 'birthDate': '1982-06-19'}\n"
     ]
    }
   ],
   "source": [
    "bundle = json.loads(r.text)\n",
    "p = bundle['entry'][0]['resource']\n",
    "print(p)"
   ]
  },
  {
   "cell_type": "markdown",
   "metadata": {},
   "source": [
    "We can extract the gender of the patient using a similar command"
   ]
  },
  {
   "cell_type": "code",
   "execution_count": 54,
   "metadata": {},
   "outputs": [
    {
     "name": "stdout",
     "output_type": "stream",
     "text": [
      "male\n"
     ]
    }
   ],
   "source": [
    "gender = p['gender']\n",
    "print(gender)"
   ]
  },
  {
   "cell_type": "markdown",
   "metadata": {},
   "source": [
    "The 'name' field can be confusing at first. The 'given' field (first name) is usually a list while the 'family' field (last name) is usually just a string."
   ]
  },
  {
   "cell_type": "code",
   "execution_count": 55,
   "metadata": {},
   "outputs": [
    {
     "name": "stdout",
     "output_type": "stream",
     "text": [
      "Dmitri 1Fram-Low\n"
     ]
    }
   ],
   "source": [
    "first = p['name'][0]['given'][0]\n",
    "last = p['name'][0]['family']\n",
    "name = first + ' ' + last\n",
    "print(name)"
   ]
  },
  {
   "cell_type": "markdown",
   "metadata": {},
   "source": [
    "Age will also present some difficulty since we are only provided with the date of birth. Thankfully, Python's datetime library has some helpful tools for working with dates. We can extract the birth year by splitting the string on '-' and selecting the first item in the resulting list. Then, if we convert that to an integer, we can calculate the age."
   ]
  },
  {
   "cell_type": "code",
   "execution_count": 56,
   "metadata": {},
   "outputs": [
    {
     "name": "stdout",
     "output_type": "stream",
     "text": [
      "38\n"
     ]
    }
   ],
   "source": [
    "birth_year = p['birthDate'].split('-')[0]\n",
    "current_year = datetime.date.today().year\n",
    "age = current_year - int(birth_year)\n",
    "print(age)"
   ]
  },
  {
   "cell_type": "markdown",
   "metadata": {},
   "source": [
    "#### Observation resource - smoking status, systolic BP, total cholesterol, HDL cholesterol"
   ]
  },
  {
   "cell_type": "markdown",
   "metadata": {},
   "source": [
    "Observation resources are a very generic resource and can represent many different things. To make sure that everyone takes a standardized approach to using observations, profiles have been created to constrain how to use observations to represent clinical concepts.\n",
    "\n",
    "A good first step when building the query for a concept you haven't worked with before is to consult the US Core Profile [guide](https://build.fhir.org/ig/HL7/US-Core-R4/). The guidelines change depending on the FHIR version you are using. This example uses the R4 version of FHIR.\n",
    "\n",
    "If we look into the guide we'll see that there is a defined SmokingStatus [profile](https://build.fhir.org/ig/HL7/US-Core-R4/StructureDefinition-us-core-smokingstatus.html). As we explore the profile we find that a SmokingStatus observation should be given the LOINC code 72166-2. We'll also see that the possible values for each SmokingStatus observation are constrained to a ValueSet of the possible statuses: Current every day smoker, Current some day smoker, Former smoker, Never smoker, Smoker - current status unknown, Unknown if ever smoked, Current Heavy tobacco smoker, Current Light tobacco smoker.\n",
    "\n",
    "We can then query for the most recent observation with a 'subject' equal to our target patient ID and which also has a 'code' of 72166-2.\n",
    "\n",
    "If the SmokingStatus observation is 'Never Smoker' then we will give the patient a 'No' value for the calculator, otherwise, we will assume that they are a smoker and will give a 'Yes' value."
   ]
  },
  {
   "cell_type": "code",
   "execution_count": 57,
   "metadata": {},
   "outputs": [
    {
     "name": "stdout",
     "output_type": "stream",
     "text": [
      "Never smoker\n"
     ]
    }
   ],
   "source": [
    "url = base + '/Observation?subject=' + patient_id + '&_sort:desc=date&code=72166-2'\n",
    "smoker = 1\n",
    "\n",
    "#Send the query\n",
    "r = requests.get(url)\n",
    "#Create a JSON object of the result\n",
    "bundle = json.loads(r.text)\n",
    "#Check to make sure a resource was returned\n",
    "if bundle['total'] != 0:\n",
    "    #Parse the contents of that resource\n",
    "    status = bundle['entry'][0]['resource']['valueCodeableConcept']['text']\n",
    "    if status == 'Never smoker':\n",
    "        smoker = 0\n",
    "        print(status)\n",
    "    else:\n",
    "        print(status)\n",
    "else:\n",
    "    print('None found')"
   ]
  },
  {
   "cell_type": "markdown",
   "metadata": {},
   "source": [
    "Blood pressure is part of the Vital Signs Panel [profile](http://hl7.org/fhir/R4/observation-vitalsigns.html). From that profile we see that there is a defined structure for representing blood pressure levels. We will query for the most recent blood pressure observation and will extract the systolic measurement which are stored as a component in that observation."
   ]
  },
  {
   "cell_type": "code",
   "execution_count": 58,
   "metadata": {},
   "outputs": [
    {
     "name": "stdout",
     "output_type": "stream",
     "text": [
      "125\n"
     ]
    }
   ],
   "source": [
    "url = base + '/Observation?subject=' + patient_id + '&_sort:desc=date&code=55284-4'\n",
    "sys = ''\n",
    "#Send the query\n",
    "r = requests.get(url)\n",
    "#Create a JSON object of the result\n",
    "bundle = json.loads(r.text)\n",
    "#Check to make sure a resource was returned\n",
    "if bundle['total'] != 0:\n",
    "    #Parse the contents of that resource\n",
    "    for component in bundle['entry'][0]['resource']['component']:\n",
    "        #Check for the systolic value (we don't want dialstolic)\n",
    "        if component['code']['text'] == 'Systolic Blood Pressure':\n",
    "            sys = component['valueQuantity']['value']\n",
    "            print(sys)\n",
    "else:\n",
    "    print('None found')"
   ]
  },
  {
   "cell_type": "markdown",
   "metadata": {},
   "source": [
    "Cholesterol values are stored together as part of a single lipid panel, as described in the lipid lab report [profile](https://www.hl7.org/fhir/lipidprofile.html). The actual results are stored as Observation resources. We will search for the most recent values."
   ]
  },
  {
   "cell_type": "code",
   "execution_count": 59,
   "metadata": {},
   "outputs": [
    {
     "name": "stdout",
     "output_type": "stream",
     "text": [
      "200\n"
     ]
    }
   ],
   "source": [
    "#Total cholesterol\n",
    "url = base + '/Observation?subject=' + patient_id + '&_sort:desc=date&code=2093-3'\n",
    "total_chol = ''\n",
    "#Send the query\n",
    "r = requests.get(url)\n",
    "#Create a JSON object of the result\n",
    "bundle = json.loads(r.text)\n",
    "#Check to make sure a resource was returned\n",
    "if bundle['total'] != 0:\n",
    "    #Parse the contents of that resource\n",
    "    total_chol = bundle['entry'][0]['resource']['valueQuantity']['value']\n",
    "    print(total_chol)\n",
    "else:\n",
    "    print('None found')"
   ]
  },
  {
   "cell_type": "code",
   "execution_count": 60,
   "metadata": {},
   "outputs": [
    {
     "name": "stdout",
     "output_type": "stream",
     "text": [
      "58\n"
     ]
    }
   ],
   "source": [
    "#HDL cholesterol\n",
    "url = base + '/Observation?subject=' + patient_id + '&_sort:desc=date&code=2085-9'\n",
    "hdl_chol = ''\n",
    "#Send the query\n",
    "r = requests.get(url)\n",
    "#Create a JSON object of the result\n",
    "bundle = json.loads(r.text)\n",
    "#Check to make sure a resource was returned\n",
    "if bundle['total'] != 0:\n",
    "    #Parse the contents of that resource\n",
    "    hdl_chol = bundle['entry'][0]['resource']['valueQuantity']['value']\n",
    "    print(hdl_chol)\n",
    "else:\n",
    "    print('None found')"
   ]
  },
  {
   "cell_type": "markdown",
   "metadata": {},
   "source": [
    "#### MedicationRequest resource - Is the patient's blood pressure being treated with medicines? "
   ]
  },
  {
   "cell_type": "markdown",
   "metadata": {},
   "source": [
    "This last piece of needed information will give a good introduction to working with patient medications. There are a few resources which each represent different aspects of how medications are used in a clinical setting. They are each described in the [R4 Medications Module](http://hl7.org/fhir/medications-module.html). A MedicationRequest resource is generated when the provider creates the instruction for a patient to take a certain medication. As you can imagine, this is usually the most convenient way to see which medications a patient should be taking or should have taken at some point of time. Whether or not the patient actually takes the medication is another story. We will assume that if a MedicationRequest resource exists for a certain medication that the patient took that medication as prescribed.\n",
    "\n",
    "We will also need to determine whether a given medication is a being used to treat blood pressure or not. To do this we will use a ValueSet resource. Explained [here](https://www.hl7.org/fhir/valueset.html), these are handy resources for constraining possible values which, for our case, is blood pressure medications. A ValueSet resource was created for this example and is stored in the server. It contains 5 values for possible blood pressure medications which are common to our synthetic patients. We will query the ValueSet resource by title which is \"blood-pressure-medication\" and will extract the associated medication codes. We will then build our URL from this ValueSet to search for any MedicationRequest resources with codes in that URL."
   ]
  },
  {
   "cell_type": "code",
   "execution_count": 61,
   "metadata": {},
   "outputs": [
    {
     "name": "stdout",
     "output_type": "stream",
     "text": [
      "None found\n"
     ]
    }
   ],
   "source": [
    "#ValueSet\n",
    "url = base + '/MedicationRequest?subject=' + patient_id + '&_sort:desc=date&code='\n",
    "r = requests.get(base + '/ValueSet?title=blood-pressure-medications')\n",
    "bundle = json.loads(r.text)\n",
    "valueset = bundle['entry'][0]['resource']['expansion']['contains']\n",
    "for meds in valueset:\n",
    "    #Add each code to the URL we will use for our MedicationRequest query\n",
    "    url += meds['code'] + ','\n",
    "#Take out trailing comma\n",
    "url = url[:-1]\n",
    "\n",
    "#MedicationRequest\n",
    "treated = 0\n",
    "#Send the query\n",
    "r = requests.get(url)\n",
    "#Create a JSON object of the result\n",
    "bundle = json.loads(r.text)\n",
    "#If any resources were returned, then they have been treated\n",
    "if bundle['total'] > 0:\n",
    "    treated = 1\n",
    "    print(treated)\n",
    "else:\n",
    "    print('None found')"
   ]
  },
  {
   "cell_type": "markdown",
   "metadata": {},
   "source": [
    "### Putting it all together"
   ]
  },
  {
   "cell_type": "markdown",
   "metadata": {},
   "source": [
    "The last step is to send each of the variables which we have collected through FHIR resources to the calculating functions. To do this, we will create functions for each of the processes described above (so that you don't need to run each cell in this notebook sequentially) and will call the appropriate calculating function. "
   ]
  },
  {
   "cell_type": "code",
   "execution_count": 62,
   "metadata": {},
   "outputs": [
    {
     "name": "stdout",
     "output_type": "stream",
     "text": [
      "Name:\t\t\t\t\tDmitri 1Fram-Low\n",
      "Gender:\t\t\t\t\tmale\n",
      "Age:\t\t\t\t\t38\n",
      "Smoker:\t\t\t\t\tNO\n",
      "Systolic BP:\t\t\t\t125\n",
      "Total Cholesterol:\t\t\t200\n",
      "HDL Cholesterol:\t\t\t58\n",
      "Blood Pressure treated by medication:\tNO\n",
      "--------RESULT--------\n",
      "10-year risk of MI or death: 0.8%  (Average: 4%)\n"
     ]
    }
   ],
   "source": [
    "import requests,json,datetime,pandas,math\n",
    "\n",
    "base = 'replace-this-with-your-open-url'\n",
    "patient_id = 'replace-this-with-your-target-patient-id'\n",
    "\n",
    "male_avg = {range(30,35):'1%',range(35,45):'4%',range(45,50):'8%',range(50,55):'10%',range(55,60):'13%',range(60,65):'20%',range(65,70): '22%',range(70,75):'25%'}\n",
    "female_avg = {range(30,35):'<1%',range(35,40):'<1%',range(40-45):'1%',range(45,50):'2%',range(50,55):'3%',range(55,60):'7%',range(60,65):'8%',range(65,70): '8%',range(70,75):'11%'}\n",
    "\n",
    "def launch():    \n",
    "    #DEMOGRAPHICS\n",
    "    r = requests.get(base + '/Patient?_id=' + patient_id)\n",
    "    bundle = json.loads(r.text)\n",
    "    demographics = parseDemographics(bundle);\n",
    "    if demographics[0] == 'error':\n",
    "        print('---ERROR---\\n' + 'Patient not found: ' + patient_id)\n",
    "        \n",
    "    #SMOKING STATUS\n",
    "    r = requests.get(base + '/Observation?subject=' + patient_id + '&_sort:desc=date&code=72166-2')\n",
    "    bundle = json.loads(r.text)\n",
    "    smoker = parseSmoker(bundle)\n",
    "    \n",
    "    #SYSTOLIC BLOOD PRESSURE\n",
    "    r = requests.get(base + '/Observation?subject=' + patient_id + '&_sort:desc=date&code=55284-4')\n",
    "    bundle = json.loads(r.text)\n",
    "    sys = parseSystolic(bundle)\n",
    "    if sys == 'error':\n",
    "        print('---ERROR---\\n' + 'No systolic blood pressure values for patient: ' + patient_id)\n",
    "        \n",
    "    #TOTAL CHOLESTEROL\n",
    "    r = requests.get(base + '/Observation?subject=' + patient_id + '&_sort:desc=date&code=2093-3')\n",
    "    bundle = json.loads(r.text)\n",
    "    total_chol = parseCholesterol(bundle)\n",
    "    if total_chol == 'error':\n",
    "        print('---ERROR---\\n' + 'No total cholesterol values for patient: ' + patient_id)\n",
    "        \n",
    "    #HDL CHOLESTEROL\n",
    "    r = requests.get(base + '/Observation?subject=' + patient_id + '&_sort:desc=date&code=2085-9')\n",
    "    bundle = json.loads(r.text)\n",
    "    hdl_chol = parseCholesterol(bundle);\n",
    "    if hdl_chol == 'error':\n",
    "        print('---ERROR---\\n' + 'No HDL cholesterol reading for patient: ' + patient_id)\n",
    "        \n",
    "    #TREATED WITH BLOOD PRESSURE MEDICATIONS?\n",
    "    url = base + '/MedicationRequest?subject=' + patient_id + '&_sort:desc=date&code='\n",
    "    #First, get ValueSet for BP medications\n",
    "    r = requests.get(base + '/ValueSet?title=blood-pressure-medications')\n",
    "    bundle = json.loads(r.text)\n",
    "    for meds in bundle['entry'][0]['resource']['expansion']['contains']:\n",
    "        #Add each code to the URL we will use for our MedicationRequest query\n",
    "        url += meds['code'] + ',';\n",
    "    #Take out trailing comma\n",
    "    url = url[:-1];\n",
    "    #Query for MedicationRequest resources for the patient\n",
    "    r = requests.get(url)\n",
    "    bundle = json.loads(r.text)\n",
    "    treated = parseMeds(bundle);\n",
    "    \n",
    "    #CALCULATE RISK\n",
    "    risk = getRisk(demographics,smoker,sys,total_chol,hdl_chol,treated)\n",
    "    result = compileReport(demographics,smoker,sys,total_chol,hdl_chol,treated,risk)\n",
    "    print(result)\n",
    "\n",
    "def parseDemographics(bundle): \n",
    "    try:\n",
    "        p = bundle['entry'][0]['resource']\n",
    "        #Name\n",
    "        first = p['name'][0]['given'][0]\n",
    "        last = p['name'][0]['family']\n",
    "        name = first + ' ' + last\n",
    "        #Gender\n",
    "        gender = p['gender']\n",
    "        #Age\n",
    "        birth_year = p['birthDate'].split('-')[0]\n",
    "        current_year = datetime.date.today().year\n",
    "        age = current_year - int(birth_year)\n",
    "        return [name,gender,age]\n",
    "    except:\n",
    "        return ['error']\n",
    "\n",
    "def parseSmoker(bundle):\n",
    "    #0 = no smoking history, 1 = any smoking history\n",
    "    if bundle['total'] != 0: \n",
    "        smoker = 1\n",
    "        if bundle['entry'][0]['resource']['valueCodeableConcept']['text'] == 'Never smoker':\n",
    "            smoker = 0\n",
    "        return smoker\n",
    "    else:\n",
    "        return 0 #Default to no if nothing is found\n",
    "\n",
    "def parseSystolic(bundle):\n",
    "    if bundle['total'] != 0:\n",
    "        for comp in bundle['entry'][0]['resource']['component']:\n",
    "            if comp['code']['text'] == 'Systolic Blood Pressure': \n",
    "                return comp['valueQuantity']['value']\n",
    "        return 'error'\n",
    "    else:\n",
    "        return 'error'\n",
    "    \n",
    "def parseCholesterol(bundle):\n",
    "    if bundle['total'] != 0:\n",
    "        return bundle['entry'][0]['resource']['valueQuantity']['value']\n",
    "    else:\n",
    "        return 'error'\n",
    "\n",
    "\n",
    "def parseMeds(bundle):\n",
    "    treated = 0; #Default treated status is 0 (No)\n",
    "    #If any entries are returned then we know they are blood pressure medications\n",
    "    if bundle['total'] != 0:\n",
    "        treated = 1\n",
    "    return treated;\n",
    "\n",
    "def getRisk(demographics,smoker,sys,total_chol,hdl_chol,treated):\n",
    "    gender = demographics[1]\n",
    "    age = demographics[2]\n",
    "    if gender == 'female':\n",
    "        r = female_fram(age,smoker,sys,total_chol,hdl_chol,treated)\n",
    "    else:\n",
    "        r = male_fram(age,smoker,sys,total_chol,hdl_chol,treated)\n",
    "    risk = r[0];\n",
    "    #If the patient is 80 or older, the calculation wasn't performed\n",
    "    if risk == 'old':\n",
    "        return 'Risk can only be calculated for ages 30-79'\n",
    "    else:\n",
    "        avg = r[1];\n",
    "        #If the patient is above 74 years old there is no 'Average' information to include in the result\n",
    "        if avg == 'old':\n",
    "            return '10-year risk of MI or death: ' + str(round(risk, 2)) + '% (No average reference above 74 years old)'\n",
    "        else:\n",
    "            return '10-year risk of MI or death: ' + str(round(risk, 2)) + '%  (Average: ' + avg + ')';\n",
    "\n",
    "def compileReport(demographics,smoker,sys,total_chol,hdl_chol,treated,risk):\n",
    "    report = ''\n",
    "    name = demographics[0]\n",
    "    report += 'Name:\\t\\t\\t\\t\\t' + name + '\\n'\n",
    "    gender = demographics[1];\n",
    "    report += 'Gender:\\t\\t\\t\\t\\t' + gender + '\\n'\n",
    "    age = demographics[2];\n",
    "    report += 'Age:\\t\\t\\t\\t\\t' + str(age) + '\\n'\n",
    "    if smoker == 1:\n",
    "        report += 'Smoker:\\t\\t\\t\\t\\tYES\\n'\n",
    "    else:\n",
    "        report += 'Smoker:\\t\\t\\t\\t\\tNO\\n'\n",
    "    report += 'Systolic BP:\\t\\t\\t\\t' + str(sys) + '\\n'\n",
    "    report += 'Total Cholesterol:\\t\\t\\t' + str(total_chol) + '\\n'\n",
    "    report += 'HDL Cholesterol:\\t\\t\\t' + str(hdl_chol) + '\\n'\n",
    "    if treated == 1:\n",
    "        report += 'Blood Pressure treated by medication:\\tYES\\n'\n",
    "    else:\n",
    "        report += 'Blood Pressure treated by medication:\\tNO\\n'\n",
    "    report += '--------RESULT--------\\n'\n",
    "    report += risk\n",
    "    return report\n",
    "\n",
    "def male_fram(age,smoker,sys,total_chol,hdl_chol,treated):\n",
    "    if age < 30 or age > 79:\n",
    "        return ['old']\n",
    "    if age > 70:\n",
    "        age_smoke = 70\n",
    "    else:\n",
    "        age_smoke = age\n",
    "            \n",
    "    l = 52.000961*math.log(age) + 20.014077*math.log(total_chol) + -0.905964*math.log(hdl_chol) + \\\n",
    "    1.305784*math.log(sys) + 0.241549*treated + 12.096316*smoker + -4.605038*math.log(age)*math.log(total_chol) + \\\n",
    "    -2.84367*math.log(age_smoke)*smoker + -2.93323*math.log(age)*math.log(age) - 172.300168\n",
    "    \n",
    "    prob = 1 - 0.9402**math.exp(l)\n",
    "    if age > 75:\n",
    "        return [prob*100,'old']\n",
    "    else:\n",
    "        for group in male_avg:\n",
    "            if age in group:\n",
    "                return [prob*100, male_avg[group]]\n",
    "            \n",
    "def female_fram(age,smoker,sys,total_chol,hdl_chol,treated):\n",
    "    if age < 30 or age > 79:\n",
    "        return ['old']\n",
    "    if age > 78:\n",
    "        age_smoke = 78\n",
    "    else:\n",
    "        age_smoke = age\n",
    "            \n",
    "    l = 31.764001*math.log(age) + 22.465206*math.log(total_chol) + -1.187731*math.log(hdl_chol) + \\\n",
    "    2.552905*math.log(sys) + 0.420251*treated + 13.07543*smoker + -5.060998*math.log(age)*math.log(total_chol) + \\\n",
    "    -2.996945*math.log(age_smoke)*smoker - 146.5933061\n",
    "    \n",
    "    prob = 1 - 0.98767**math.exp(l)\n",
    "    if age > 75:\n",
    "        return [prob*100,'old']\n",
    "    else:\n",
    "        for group in female_avg:\n",
    "            if age in group:\n",
    "                return [prob*100, female_avg[group]]\n",
    "            \n",
    "launch()"
   ]
  },
  {
   "cell_type": "code",
   "execution_count": null,
   "metadata": {},
   "outputs": [],
   "source": []
  }
 ],
 "metadata": {
  "kernelspec": {
   "display_name": "Python 3",
   "language": "python",
   "name": "python3"
  },
  "language_info": {
   "codemirror_mode": {
    "name": "ipython",
    "version": 3
   },
   "file_extension": ".py",
   "mimetype": "text/x-python",
   "name": "python",
   "nbconvert_exporter": "python",
   "pygments_lexer": "ipython3",
   "version": "3.7.6"
  }
 },
 "nbformat": 4,
 "nbformat_minor": 2
}
